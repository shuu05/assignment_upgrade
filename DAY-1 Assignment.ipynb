{
  "nbformat": 4,
  "nbformat_minor": 0,
  "metadata": {
    "colab": {
      "name": "Untitled0.ipynb",
      "provenance": []
    },
    "kernelspec": {
      "name": "python3",
      "display_name": "Python 3"
    }
  },
  "cells": [
    {
      "cell_type": "markdown",
      "metadata": {
        "id": "3SwSyNtjKt3v"
      },
      "source": [
        "Given the following jumbled word, OBANWRI guess the correct English word. \n",
        "A. RANIBOW \n",
        "B. RAINBOW \n",
        "C. BOWRANI \n",
        "D. ROBWANI \n",
        "\n",
        "Ans  B. RAINBOW "
      ]
    },
    {
      "cell_type": "code",
      "metadata": {
        "id": "gkhXZeK_K1E4",
        "outputId": "73f38982-178b-45b8-c58d-4497e2b63d85",
        "colab": {
          "base_uri": "https://localhost:8080/"
        }
      },
      "source": [
        "print(\"LETS UPGRADE\")"
      ],
      "execution_count": 12,
      "outputs": [
        {
          "output_type": "stream",
          "text": [
            "LETS UPGRADE\n"
          ],
          "name": "stdout"
        }
      ]
    },
    {
      "cell_type": "code",
      "metadata": {
        "id": "5L2OItTqK-si",
        "outputId": "4f95648e-7668-45e6-ceda-45cf865458ff",
        "colab": {
          "base_uri": "https://localhost:8080/"
        }
      },
      "source": [
        " cost_price = int(input(\"Enter cost price\"))\n",
        " selling_price = int(input(\"enter selling price\"))\n",
        " if(cost_price > selling_price):\n",
        "   print(\"Loss \")\n",
        "elif(cost_price < selling_price):\n",
        "    print(\"Profit\")\n",
        "else:\n",
        "    print('Neither')"
      ],
      "execution_count": 10,
      "outputs": [
        {
          "output_type": "stream",
          "text": [
            "Enter cost price5\n",
            "enter selling price5\n",
            "Neither\n"
          ],
          "name": "stdout"
        }
      ]
    },
    {
      "cell_type": "code",
      "metadata": {
        "id": "STX7cC7eMvBB",
        "outputId": "155b2052-b87f-4cdc-a53b-5db82b93f7a7",
        "colab": {
          "base_uri": "https://localhost:8080/"
        }
      },
      "source": [
        "Euros = int(input(\"enter euros:\"))\n",
        "rupee = Euros * 80\n",
        "print(rupee)"
      ],
      "execution_count": 15,
      "outputs": [
        {
          "output_type": "stream",
          "text": [
            "enter euros:72\n",
            "5760\n"
          ],
          "name": "stdout"
        }
      ]
    },
    {
      "cell_type": "code",
      "metadata": {
        "id": "EuhtPlypNxbT"
      },
      "source": [
        ""
      ],
      "execution_count": 15,
      "outputs": []
    }
  ]
}